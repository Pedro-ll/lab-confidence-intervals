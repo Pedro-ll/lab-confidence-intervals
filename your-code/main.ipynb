{
 "cells": [
  {
   "cell_type": "markdown",
   "metadata": {},
   "source": [
    "# Confidence Intervals"
   ]
  },
  {
   "cell_type": "code",
   "execution_count": 89,
   "metadata": {},
   "outputs": [],
   "source": [
    "# Libraries\n",
    "import numpy as np\n",
    "import scipy.stats as st"
   ]
  },
  {
   "cell_type": "markdown",
   "metadata": {},
   "source": [
    "## Challenge 1\n",
    "We want to estimate the average size of the men of a country with a confidence level of 80%. Assuming that the standard deviation of the sizes in the population is 4, get the confidence interval with a sample of men selected randomly, whose heights are:\n",
    "\n",
    "````\n",
    "heights = [167, 167, 168, 168, 168, 169, 171, 172, 173, 175, 175, 175, 177, 182, 195]\n",
    "````\n",
    "\n",
    "**Hint**: function `stats.norm.interval` from `scipy` can help you get through this exercise. "
   ]
  },
  {
   "cell_type": "code",
   "execution_count": 90,
   "metadata": {},
   "outputs": [
    {
     "name": "stdout",
     "output_type": "stream",
     "text": [
      "We are 80'%' confident that the real mean value is between 172.14308590115726 and 174.79024743217607\n"
     ]
    }
   ],
   "source": [
    "# your code here\n",
    "\n",
    "heights = [167, 167, 168, 168, 168, 169, 171, 172, 173, 175, 175, 175, 177, 182, 195]\n",
    "\n",
    "mean_sample=sum(heights)/len(heights)\n",
    "\n",
    "standard_dev_pop=4\n",
    "\n",
    "standard_dev_sample_mean=standard_dev_pop/np.sqrt(len(heights))\n",
    "\n",
    "norm_dist=st.norm()\n",
    "\n",
    "z=norm_dist.ppf(0.90)\n",
    "\n",
    "low=mean_sample-z*standard_dev_sample_mean\n",
    "\n",
    "high=mean_sample+z*standard_dev_sample_mean\n",
    "\n",
    "print(\"We are 80'%' confident that the real mean value is between {} and {}\".format(low,high))"
   ]
  },
  {
   "cell_type": "markdown",
   "metadata": {},
   "source": [
    "## Challenge 2 \n",
    "In a sample of 105 shops selected randomly from an area, we note that 27 of them have had losses in this month. Get an interval for the proportion of businesses in the area with losses to a confidence level of 80% and a confidence level of 90%.\n",
    "\n",
    "**Hint**: function `stats.norm.interval` from `scipy` can help you get through this exercise. "
   ]
  },
  {
   "cell_type": "code",
   "execution_count": 91,
   "metadata": {},
   "outputs": [
    {
     "name": "stdout",
     "output_type": "stream",
     "text": [
      "We are 80'%' confident that the real mean value is between 0.2021319222413539 and 0.31215379204436033\n",
      "We are 90'%' confident that the real mean value is between 0.18635505023962587 and 0.3279306640460884\n"
     ]
    }
   ],
   "source": [
    "# your code here\n",
    "\n",
    "array1=np.random.uniform(1,1,size=27)\n",
    "array2=np.random.uniform(0,0,size=105-27)\n",
    "\n",
    "store=np.concatenate((array1,array2))\n",
    "\n",
    "mean_sample=27/105\n",
    "n_sample=105\n",
    "sample_std=store.std()\n",
    "\n",
    "sample_distribution_std=sample_std/np.sqrt(105)\n",
    "\n",
    "t=st.t(df=105-1)\n",
    "\n",
    "t_80=t.ppf(0.9)\n",
    "\n",
    "t_90=t.ppf(0.95)\n",
    "\n",
    "high_80=mean_sample+sample_distribution_std*t_80\n",
    "low_80=mean_sample-sample_distribution_std*t_80\n",
    "\n",
    "high_90=mean_sample+sample_distribution_std*t_90\n",
    "low_90=mean_sample-sample_distribution_std*t_90\n",
    "\n",
    "print(\"We are 80'%' confident that the real mean value is between {} and {}\".format(low_80,high_80))\n",
    "print(\"We are 90'%' confident that the real mean value is between {} and {}\".format(low_90,high_90))"
   ]
  },
  {
   "cell_type": "code",
   "execution_count": 92,
   "metadata": {},
   "outputs": [
    {
     "data": {
      "text/plain": [
       "(0.18635505023962584, 0.3279306640460884)"
      ]
     },
     "execution_count": 92,
     "metadata": {},
     "output_type": "execute_result"
    }
   ],
   "source": [
    "st.t.interval(0.90, loc=p, scale= np.sqrt(n_sample*q*p/n_sample)/np.sqrt(105), df=n_sample-1)\n"
   ]
  },
  {
   "cell_type": "markdown",
   "metadata": {},
   "source": [
    "## Bonus Challenge\n",
    "The error level or sampling error for the first challenge is given by the following expression:\n",
    "$$Error = z_{\\frac{\\alpha}{2}}\\frac{\\sigma}{\\sqrt n}$$\n",
    "Where z represents the value for N(0,1)\n",
    "\n",
    "\n",
    "Suppose that with the previous data of challenge 1, and with a confidence level of\n",
    "99% (that is, almost certainly) we want to estimate the average population size, so that the error level committed is not greater than half a centimeter.\n",
    "\n",
    "#### 1.- Determine what size the selected sample of men should be."
   ]
  },
  {
   "cell_type": "code",
   "execution_count": 93,
   "metadata": {},
   "outputs": [
    {
     "name": "stdout",
     "output_type": "stream",
     "text": [
      "Optimal number of sample size is 246.\n"
     ]
    }
   ],
   "source": [
    "# your code here\n",
    "\n",
    "heights = [167, 167, 168, 168, 168, 169, 171, 172, 173, 175, 175, 175, 177, 182, 195]\n",
    "\n",
    "sigma=4\n",
    "\n",
    "error=0.5\n",
    "\n",
    "z=st.norm().ppf(0.975)\n",
    "\n",
    "\n",
    "n_optimal=((z*sigma/0.5)**2)\n",
    "\n",
    "print(\"Optimal number of sample size is {}.\".format(round(n_optimal)))"
   ]
  },
  {
   "cell_type": "markdown",
   "metadata": {},
   "source": [
    "#### 2.- For the second challenge, we have the following error:\n",
    "$$ Error = z_{\\frac{\\alpha}{2}}\\sqrt{\\frac{p\\times q}{n}} $$\n",
    "#### Determine the sample size required to not exceed an error of 1% with a confidence of 80%."
   ]
  },
  {
   "cell_type": "code",
   "execution_count": 123,
   "metadata": {},
   "outputs": [
    {
     "name": "stdout",
     "output_type": "stream",
     "text": [
      "Optimal size is equal to 171.\n"
     ]
    }
   ],
   "source": [
    "# your code here\n",
    "from scipy.stats import binom\n",
    "p=27/105\n",
    "q=1-p\n",
    "n=105\n",
    "\n",
    "binom_dist=binom(105,p)\n",
    "\n",
    "z=(binom_dist.ppf(0.9)-27)/(p*q*n)\n",
    "\n",
    "error=0.01\n",
    "\n",
    "optimal_sample_size=((z/error)**2)*p*q\n",
    "\n",
    "print(\"Optimal size is equal to {}.\".format(round(optimal_sample_size)))\n"
   ]
  },
  {
   "cell_type": "markdown",
   "metadata": {},
   "source": [
    "## Bonus Challenge\n",
    "\n",
    "Let's consider the following problem:\n",
    "\n",
    "Build a confidence interval of 94% for the real difference between the durations of two brands of spotlights, if a sample of 40 spotlights taken randomly from the first mark gave an average duration of 418 hours, and a sample of 50 bulbs of another brand gave a duration average of 402 hours. The standard deviations of the two\n",
    "populations are 26 hours and 22 hours, respectively.\n",
    "\n",
    "Sometimes, we will be interested in the difference of two different groups of random variables. We can also build a confidence interval for that! We have some different cases regarding the variance but for this specific case (the variance are different and known), we have that:\n",
    "\n",
    "$$\\overline{X} - \\overline{Y}  \\sim N(\\mu_{X} - \\mu_{Y} , \\sqrt{\\frac{\\sigma_{X}^2}{n_X}+\\frac{\\sigma_{Y}^2}{n_Y}})$$\n",
    "\n",
    "Solve the problem with this information."
   ]
  },
  {
   "cell_type": "code",
   "execution_count": 144,
   "metadata": {},
   "outputs": [
    {
     "name": "stdout",
     "output_type": "stream",
     "text": [
      "We are 94'%' confident that the real mean difference is between 6.303419026585921 and 25.69658097341408.\n"
     ]
    }
   ],
   "source": [
    "# your code here\n",
    "\n",
    "mean=418-402\n",
    "\n",
    "sigma_sample=np.sqrt((26**2)/(40)+(22**2)/(50))\n",
    "\n",
    "from scipy.stats import norm\n",
    "\n",
    "norm_dist=norm()\n",
    "\n",
    "z=norm_dist.ppf(0.97)\n",
    "\n",
    "\n",
    "up=mean+z*sigma_sample\n",
    "\n",
    "low=mean-z*sigma_sample\n",
    "\n",
    "print(\"We are 94'%' confident that the real mean difference is between {} and {}.\".format(low,up))"
   ]
  }
 ],
 "metadata": {
  "kernelspec": {
   "display_name": "Python 3.9.7 ('base')",
   "language": "python",
   "name": "python3"
  },
  "language_info": {
   "codemirror_mode": {
    "name": "ipython",
    "version": 3
   },
   "file_extension": ".py",
   "mimetype": "text/x-python",
   "name": "python",
   "nbconvert_exporter": "python",
   "pygments_lexer": "ipython3",
   "version": "3.9.7"
  },
  "vscode": {
   "interpreter": {
    "hash": "40d3a090f54c6569ab1632332b64b2c03c39dcf918b08424e98f38b5ae0af88f"
   }
  }
 },
 "nbformat": 4,
 "nbformat_minor": 2
}
